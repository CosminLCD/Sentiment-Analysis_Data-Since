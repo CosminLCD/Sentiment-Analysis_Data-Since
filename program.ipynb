{
 "cells": [
  {
   "cell_type": "markdown",
   "metadata": {},
   "source": [
    "încarcarea și descrierea bazei de date"
   ]
  },
  {
   "cell_type": "code",
   "execution_count": 2,
   "metadata": {},
   "outputs": [],
   "source": [
    "import pandas as pd  # Pandas pentru manipularea datelor\n",
    "\n",
    "df = pd.read_csv(\"Combined Data.csv\")"
   ]
  },
  {
   "cell_type": "code",
   "execution_count": 3,
   "metadata": {},
   "outputs": [
    {
     "name": "stdout",
     "output_type": "stream",
     "text": [
      "   Unnamed: 0                                          statement   status\n",
      "0           0                                         oh my gosh  Anxiety\n",
      "1           1  trouble sleeping, confused mind, restless hear...  Anxiety\n",
      "2           2  All wrong, back off dear, forward doubt. Stay ...  Anxiety\n",
      "3           3  I've shifted my focus to something else but I'...  Anxiety\n",
      "4           4  I'm restless and restless, it's been a month n...  Anxiety\n"
     ]
    }
   ],
   "source": [
    "#afiseaza primele 5 randuri\n",
    "print(df.head())"
   ]
  },
  {
   "cell_type": "code",
   "execution_count": 4,
   "metadata": {},
   "outputs": [
    {
     "name": "stdout",
     "output_type": "stream",
     "text": [
      "<class 'pandas.core.frame.DataFrame'>\n",
      "RangeIndex: 53043 entries, 0 to 53042\n",
      "Data columns (total 3 columns):\n",
      " #   Column      Non-Null Count  Dtype \n",
      "---  ------      --------------  ----- \n",
      " 0   Unnamed: 0  53043 non-null  int64 \n",
      " 1   statement   52681 non-null  object\n",
      " 2   status      53043 non-null  object\n",
      "dtypes: int64(1), object(2)\n",
      "memory usage: 1.2+ MB\n",
      "None\n"
     ]
    }
   ],
   "source": [
    "# vercăm informați despre date\n",
    "print(df.info())"
   ]
  },
  {
   "cell_type": "markdown",
   "metadata": {},
   "source": [
    "Verificăm dacă avem valori lipsă"
   ]
  },
  {
   "cell_type": "code",
   "execution_count": 5,
   "metadata": {},
   "outputs": [
    {
     "name": "stdout",
     "output_type": "stream",
     "text": [
      "Unnamed: 0      0\n",
      "statement     362\n",
      "status          0\n",
      "dtype: int64\n"
     ]
    }
   ],
   "source": [
    "print(df.isnull().sum())"
   ]
  },
  {
   "cell_type": "markdown",
   "metadata": {},
   "source": [
    "Curățarea datelor\n",
    "-eliminam colana cu index, poate fii redurdantă\n",
    "-eliminăm valorile lipsă din statement"
   ]
  },
  {
   "cell_type": "code",
   "execution_count": 6,
   "metadata": {},
   "outputs": [
    {
     "name": "stdout",
     "output_type": "stream",
     "text": [
      "<class 'pandas.core.frame.DataFrame'>\n",
      "Index: 52681 entries, 0 to 53042\n",
      "Data columns (total 2 columns):\n",
      " #   Column     Non-Null Count  Dtype \n",
      "---  ------     --------------  ----- \n",
      " 0   statement  52681 non-null  object\n",
      " 1   status     52681 non-null  object\n",
      "dtypes: object(2)\n",
      "memory usage: 1.2+ MB\n",
      "None\n",
      "statement    0\n",
      "status       0\n",
      "dtype: int64\n"
     ]
    }
   ],
   "source": [
    "# Eliminăm coloana Unnamed: 0\n",
    "df = df.drop(columns=[\"Unnamed: 0\"])\n",
    "\n",
    "# Eliminăm rândurile unde statement este NaN\n",
    "df = df.dropna(subset=[\"statement\"])\n",
    "\n",
    "# Verificăm din nou datele după curățare\n",
    "print(df.info())\n",
    "print(df.isnull().sum())\n"
   ]
  },
  {
   "cell_type": "markdown",
   "metadata": {},
   "source": [
    "Descrierea datelor \n",
    "-analizam distribuția eticheteleor și lungimea textelor"
   ]
  },
  {
   "cell_type": "code",
   "execution_count": 7,
   "metadata": {},
   "outputs": [
    {
     "name": "stdout",
     "output_type": "stream",
     "text": [
      "status\n",
      "Normal                  16343\n",
      "Depression              15404\n",
      "Suicidal                10652\n",
      "Anxiety                  3841\n",
      "Bipolar                  2777\n",
      "Stress                   2587\n",
      "Personality disorder     1077\n",
      "Name: count, dtype: int64\n"
     ]
    }
   ],
   "source": [
    "print(df[\"status\"].value_counts())  # Numărul de apariții pentru fiecare etichetă"
   ]
  },
  {
   "cell_type": "code",
   "execution_count": 8,
   "metadata": {},
   "outputs": [
    {
     "name": "stdout",
     "output_type": "stream",
     "text": [
      "count    52681.000000\n",
      "mean       578.713749\n",
      "std        846.268855\n",
      "min          2.000000\n",
      "25%         80.000000\n",
      "50%        317.000000\n",
      "75%        752.000000\n",
      "max      32759.000000\n",
      "Name: text_length, dtype: float64\n"
     ]
    }
   ],
   "source": [
    "df[\"text_length\"] = df[\"statement\"].apply(len)  # Adăugăm o coloană cu lungimea textelor\n",
    "print(df[\"text_length\"].describe())  # Afișează statistici (min, max, medie, etc.)"
   ]
  },
  {
   "cell_type": "code",
   "execution_count": 9,
   "metadata": {},
   "outputs": [
    {
     "data": {
      "text/html": [
       "<div>\n",
       "<style scoped>\n",
       "    .dataframe tbody tr th:only-of-type {\n",
       "        vertical-align: middle;\n",
       "    }\n",
       "\n",
       "    .dataframe tbody tr th {\n",
       "        vertical-align: top;\n",
       "    }\n",
       "\n",
       "    .dataframe thead th {\n",
       "        text-align: right;\n",
       "    }\n",
       "</style>\n",
       "<table border=\"1\" class=\"dataframe\">\n",
       "  <thead>\n",
       "    <tr style=\"text-align: right;\">\n",
       "      <th></th>\n",
       "      <th>statement</th>\n",
       "      <th>status</th>\n",
       "      <th>text_length</th>\n",
       "    </tr>\n",
       "  </thead>\n",
       "  <tbody>\n",
       "    <tr>\n",
       "      <th>0</th>\n",
       "      <td>oh my gosh</td>\n",
       "      <td>Anxiety</td>\n",
       "      <td>10</td>\n",
       "    </tr>\n",
       "    <tr>\n",
       "      <th>1</th>\n",
       "      <td>trouble sleeping, confused mind, restless hear...</td>\n",
       "      <td>Anxiety</td>\n",
       "      <td>64</td>\n",
       "    </tr>\n",
       "    <tr>\n",
       "      <th>2</th>\n",
       "      <td>All wrong, back off dear, forward doubt. Stay ...</td>\n",
       "      <td>Anxiety</td>\n",
       "      <td>78</td>\n",
       "    </tr>\n",
       "    <tr>\n",
       "      <th>3</th>\n",
       "      <td>I've shifted my focus to something else but I'...</td>\n",
       "      <td>Anxiety</td>\n",
       "      <td>61</td>\n",
       "    </tr>\n",
       "    <tr>\n",
       "      <th>4</th>\n",
       "      <td>I'm restless and restless, it's been a month n...</td>\n",
       "      <td>Anxiety</td>\n",
       "      <td>72</td>\n",
       "    </tr>\n",
       "    <tr>\n",
       "      <th>5</th>\n",
       "      <td>every break, you must be nervous, like somethi...</td>\n",
       "      <td>Anxiety</td>\n",
       "      <td>76</td>\n",
       "    </tr>\n",
       "    <tr>\n",
       "      <th>6</th>\n",
       "      <td>I feel scared, anxious, what can I do? And may...</td>\n",
       "      <td>Anxiety</td>\n",
       "      <td>78</td>\n",
       "    </tr>\n",
       "    <tr>\n",
       "      <th>7</th>\n",
       "      <td>Have you ever felt nervous but didn't know why?</td>\n",
       "      <td>Anxiety</td>\n",
       "      <td>47</td>\n",
       "    </tr>\n",
       "    <tr>\n",
       "      <th>8</th>\n",
       "      <td>I haven't slept well for 2 days, it's like I'm...</td>\n",
       "      <td>Anxiety</td>\n",
       "      <td>70</td>\n",
       "    </tr>\n",
       "    <tr>\n",
       "      <th>9</th>\n",
       "      <td>I'm really worried, I want to cry.</td>\n",
       "      <td>Anxiety</td>\n",
       "      <td>34</td>\n",
       "    </tr>\n",
       "  </tbody>\n",
       "</table>\n",
       "</div>"
      ],
      "text/plain": [
       "                                           statement   status  text_length\n",
       "0                                         oh my gosh  Anxiety           10\n",
       "1  trouble sleeping, confused mind, restless hear...  Anxiety           64\n",
       "2  All wrong, back off dear, forward doubt. Stay ...  Anxiety           78\n",
       "3  I've shifted my focus to something else but I'...  Anxiety           61\n",
       "4  I'm restless and restless, it's been a month n...  Anxiety           72\n",
       "5  every break, you must be nervous, like somethi...  Anxiety           76\n",
       "6  I feel scared, anxious, what can I do? And may...  Anxiety           78\n",
       "7    Have you ever felt nervous but didn't know why?  Anxiety           47\n",
       "8  I haven't slept well for 2 days, it's like I'm...  Anxiety           70\n",
       "9                 I'm really worried, I want to cry.  Anxiety           34"
      ]
     },
     "execution_count": 9,
     "metadata": {},
     "output_type": "execute_result"
    }
   ],
   "source": [
    "df.head(10)  # Afișează primele 10 rânduri pentru a verifica modificările"
   ]
  },
  {
   "cell_type": "markdown",
   "metadata": {},
   "source": [
    "Corelația se aplică pe date numerice așa că transformăm textul in informație numerică"
   ]
  },
  {
   "cell_type": "code",
   "execution_count": 10,
   "metadata": {},
   "outputs": [],
   "source": [
    "df[\"word_count\"] = df[\"statement\"].apply(lambda x: len(str(x).split()))"
   ]
  },
  {
   "cell_type": "code",
   "execution_count": 11,
   "metadata": {},
   "outputs": [
    {
     "data": {
      "text/html": [
       "<div>\n",
       "<style scoped>\n",
       "    .dataframe tbody tr th:only-of-type {\n",
       "        vertical-align: middle;\n",
       "    }\n",
       "\n",
       "    .dataframe tbody tr th {\n",
       "        vertical-align: top;\n",
       "    }\n",
       "\n",
       "    .dataframe thead th {\n",
       "        text-align: right;\n",
       "    }\n",
       "</style>\n",
       "<table border=\"1\" class=\"dataframe\">\n",
       "  <thead>\n",
       "    <tr style=\"text-align: right;\">\n",
       "      <th></th>\n",
       "      <th>statement</th>\n",
       "      <th>status</th>\n",
       "      <th>text_length</th>\n",
       "      <th>word_count</th>\n",
       "    </tr>\n",
       "  </thead>\n",
       "  <tbody>\n",
       "    <tr>\n",
       "      <th>0</th>\n",
       "      <td>oh my gosh</td>\n",
       "      <td>Anxiety</td>\n",
       "      <td>10</td>\n",
       "      <td>3</td>\n",
       "    </tr>\n",
       "    <tr>\n",
       "      <th>1</th>\n",
       "      <td>trouble sleeping, confused mind, restless hear...</td>\n",
       "      <td>Anxiety</td>\n",
       "      <td>64</td>\n",
       "      <td>10</td>\n",
       "    </tr>\n",
       "    <tr>\n",
       "      <th>2</th>\n",
       "      <td>All wrong, back off dear, forward doubt. Stay ...</td>\n",
       "      <td>Anxiety</td>\n",
       "      <td>78</td>\n",
       "      <td>14</td>\n",
       "    </tr>\n",
       "    <tr>\n",
       "      <th>3</th>\n",
       "      <td>I've shifted my focus to something else but I'...</td>\n",
       "      <td>Anxiety</td>\n",
       "      <td>61</td>\n",
       "      <td>11</td>\n",
       "    </tr>\n",
       "    <tr>\n",
       "      <th>4</th>\n",
       "      <td>I'm restless and restless, it's been a month n...</td>\n",
       "      <td>Anxiety</td>\n",
       "      <td>72</td>\n",
       "      <td>14</td>\n",
       "    </tr>\n",
       "    <tr>\n",
       "      <th>5</th>\n",
       "      <td>every break, you must be nervous, like somethi...</td>\n",
       "      <td>Anxiety</td>\n",
       "      <td>76</td>\n",
       "      <td>14</td>\n",
       "    </tr>\n",
       "    <tr>\n",
       "      <th>6</th>\n",
       "      <td>I feel scared, anxious, what can I do? And may...</td>\n",
       "      <td>Anxiety</td>\n",
       "      <td>78</td>\n",
       "      <td>17</td>\n",
       "    </tr>\n",
       "    <tr>\n",
       "      <th>7</th>\n",
       "      <td>Have you ever felt nervous but didn't know why?</td>\n",
       "      <td>Anxiety</td>\n",
       "      <td>47</td>\n",
       "      <td>9</td>\n",
       "    </tr>\n",
       "    <tr>\n",
       "      <th>8</th>\n",
       "      <td>I haven't slept well for 2 days, it's like I'm...</td>\n",
       "      <td>Anxiety</td>\n",
       "      <td>70</td>\n",
       "      <td>14</td>\n",
       "    </tr>\n",
       "    <tr>\n",
       "      <th>9</th>\n",
       "      <td>I'm really worried, I want to cry.</td>\n",
       "      <td>Anxiety</td>\n",
       "      <td>34</td>\n",
       "      <td>7</td>\n",
       "    </tr>\n",
       "  </tbody>\n",
       "</table>\n",
       "</div>"
      ],
      "text/plain": [
       "                                           statement   status  text_length  \\\n",
       "0                                         oh my gosh  Anxiety           10   \n",
       "1  trouble sleeping, confused mind, restless hear...  Anxiety           64   \n",
       "2  All wrong, back off dear, forward doubt. Stay ...  Anxiety           78   \n",
       "3  I've shifted my focus to something else but I'...  Anxiety           61   \n",
       "4  I'm restless and restless, it's been a month n...  Anxiety           72   \n",
       "5  every break, you must be nervous, like somethi...  Anxiety           76   \n",
       "6  I feel scared, anxious, what can I do? And may...  Anxiety           78   \n",
       "7    Have you ever felt nervous but didn't know why?  Anxiety           47   \n",
       "8  I haven't slept well for 2 days, it's like I'm...  Anxiety           70   \n",
       "9                 I'm really worried, I want to cry.  Anxiety           34   \n",
       "\n",
       "   word_count  \n",
       "0           3  \n",
       "1          10  \n",
       "2          14  \n",
       "3          11  \n",
       "4          14  \n",
       "5          14  \n",
       "6          17  \n",
       "7           9  \n",
       "8          14  \n",
       "9           7  "
      ]
     },
     "execution_count": 11,
     "metadata": {},
     "output_type": "execute_result"
    }
   ],
   "source": [
    "df.head(10)  # Afișează primele 10 rânduri pentru a verifica modificările"
   ]
  },
  {
   "cell_type": "markdown",
   "metadata": {},
   "source": [
    "Convertim etichetele (status) în numere"
   ]
  },
  {
   "cell_type": "code",
   "execution_count": 12,
   "metadata": {},
   "outputs": [],
   "source": [
    "from sklearn.preprocessing import LabelEncoder\n",
    "\n",
    "encoder = LabelEncoder()\n",
    "df[\"status_encoded\"] = encoder.fit_transform(df[\"status\"])"
   ]
  },
  {
   "cell_type": "code",
   "execution_count": 13,
   "metadata": {},
   "outputs": [
    {
     "data": {
      "text/html": [
       "<div>\n",
       "<style scoped>\n",
       "    .dataframe tbody tr th:only-of-type {\n",
       "        vertical-align: middle;\n",
       "    }\n",
       "\n",
       "    .dataframe tbody tr th {\n",
       "        vertical-align: top;\n",
       "    }\n",
       "\n",
       "    .dataframe thead th {\n",
       "        text-align: right;\n",
       "    }\n",
       "</style>\n",
       "<table border=\"1\" class=\"dataframe\">\n",
       "  <thead>\n",
       "    <tr style=\"text-align: right;\">\n",
       "      <th></th>\n",
       "      <th>statement</th>\n",
       "      <th>status</th>\n",
       "      <th>text_length</th>\n",
       "      <th>word_count</th>\n",
       "      <th>status_encoded</th>\n",
       "    </tr>\n",
       "  </thead>\n",
       "  <tbody>\n",
       "    <tr>\n",
       "      <th>0</th>\n",
       "      <td>oh my gosh</td>\n",
       "      <td>Anxiety</td>\n",
       "      <td>10</td>\n",
       "      <td>3</td>\n",
       "      <td>0</td>\n",
       "    </tr>\n",
       "    <tr>\n",
       "      <th>1</th>\n",
       "      <td>trouble sleeping, confused mind, restless hear...</td>\n",
       "      <td>Anxiety</td>\n",
       "      <td>64</td>\n",
       "      <td>10</td>\n",
       "      <td>0</td>\n",
       "    </tr>\n",
       "    <tr>\n",
       "      <th>2</th>\n",
       "      <td>All wrong, back off dear, forward doubt. Stay ...</td>\n",
       "      <td>Anxiety</td>\n",
       "      <td>78</td>\n",
       "      <td>14</td>\n",
       "      <td>0</td>\n",
       "    </tr>\n",
       "    <tr>\n",
       "      <th>3</th>\n",
       "      <td>I've shifted my focus to something else but I'...</td>\n",
       "      <td>Anxiety</td>\n",
       "      <td>61</td>\n",
       "      <td>11</td>\n",
       "      <td>0</td>\n",
       "    </tr>\n",
       "    <tr>\n",
       "      <th>4</th>\n",
       "      <td>I'm restless and restless, it's been a month n...</td>\n",
       "      <td>Anxiety</td>\n",
       "      <td>72</td>\n",
       "      <td>14</td>\n",
       "      <td>0</td>\n",
       "    </tr>\n",
       "    <tr>\n",
       "      <th>...</th>\n",
       "      <td>...</td>\n",
       "      <td>...</td>\n",
       "      <td>...</td>\n",
       "      <td>...</td>\n",
       "      <td>...</td>\n",
       "    </tr>\n",
       "    <tr>\n",
       "      <th>798</th>\n",
       "      <td>wow shey. I just realized and just found out t...</td>\n",
       "      <td>Normal</td>\n",
       "      <td>75</td>\n",
       "      <td>17</td>\n",
       "      <td>3</td>\n",
       "    </tr>\n",
       "    <tr>\n",
       "      <th>799</th>\n",
       "      <td>Galaxy opal giannis makes me cum</td>\n",
       "      <td>Normal</td>\n",
       "      <td>32</td>\n",
       "      <td>6</td>\n",
       "      <td>3</td>\n",
       "    </tr>\n",
       "    <tr>\n",
       "      <th>800</th>\n",
       "      <td>the harmonization HSUHSI â ¤ï¸</td>\n",
       "      <td>Normal</td>\n",
       "      <td>30</td>\n",
       "      <td>5</td>\n",
       "      <td>3</td>\n",
       "    </tr>\n",
       "    <tr>\n",
       "      <th>801</th>\n",
       "      <td>This morning feels like the wind is really Eid</td>\n",
       "      <td>Normal</td>\n",
       "      <td>46</td>\n",
       "      <td>9</td>\n",
       "      <td>3</td>\n",
       "    </tr>\n",
       "    <tr>\n",
       "      <th>802</th>\n",
       "      <td>here who likes to make fmv, what apps do you u...</td>\n",
       "      <td>Normal</td>\n",
       "      <td>115</td>\n",
       "      <td>26</td>\n",
       "      <td>3</td>\n",
       "    </tr>\n",
       "  </tbody>\n",
       "</table>\n",
       "<p>800 rows × 5 columns</p>\n",
       "</div>"
      ],
      "text/plain": [
       "                                             statement   status  text_length  \\\n",
       "0                                           oh my gosh  Anxiety           10   \n",
       "1    trouble sleeping, confused mind, restless hear...  Anxiety           64   \n",
       "2    All wrong, back off dear, forward doubt. Stay ...  Anxiety           78   \n",
       "3    I've shifted my focus to something else but I'...  Anxiety           61   \n",
       "4    I'm restless and restless, it's been a month n...  Anxiety           72   \n",
       "..                                                 ...      ...          ...   \n",
       "798  wow shey. I just realized and just found out t...   Normal           75   \n",
       "799                   Galaxy opal giannis makes me cum   Normal           32   \n",
       "800                     the harmonization HSUHSI â ¤ï¸   Normal           30   \n",
       "801     This morning feels like the wind is really Eid   Normal           46   \n",
       "802  here who likes to make fmv, what apps do you u...   Normal          115   \n",
       "\n",
       "     word_count  status_encoded  \n",
       "0             3               0  \n",
       "1            10               0  \n",
       "2            14               0  \n",
       "3            11               0  \n",
       "4            14               0  \n",
       "..          ...             ...  \n",
       "798          17               3  \n",
       "799           6               3  \n",
       "800           5               3  \n",
       "801           9               3  \n",
       "802          26               3  \n",
       "\n",
       "[800 rows x 5 columns]"
      ]
     },
     "execution_count": 13,
     "metadata": {},
     "output_type": "execute_result"
    }
   ],
   "source": [
    "df.head(800)  "
   ]
  },
  {
   "cell_type": "markdown",
   "metadata": {},
   "source": [
    "Calculăm matricea de corelație"
   ]
  },
  {
   "cell_type": "code",
   "execution_count": 14,
   "metadata": {},
   "outputs": [
    {
     "data": {
      "image/png": "[encoded data removed]",
      "text/plain": [
       "<Figure size 800x600 with 2 Axes>"
      ]
     },
     "metadata": {},
     "output_type": "display_data"
    }
   ],
   "source": [
    "import seaborn as sns\n",
    "import matplotlib.pyplot as plt\n",
    "\n",
    "# Selectăm doar coloanele numerice\n",
    "numeric_df = df[[\"text_length\", \"word_count\", \"status_encoded\"]]\n",
    "\n",
    "# Calculăm matricea de corelație\n",
    "correlation_matrix = numeric_df.corr()\n",
    "\n",
    "# Vizualizare\n",
    "plt.figure(figsize=(8,6))\n",
    "sns.heatmap(correlation_matrix, annot=True, cmap=\"coolwarm\", fmt=\".2f\")\n",
    "plt.title(\"Matricea de Corelație\")\n",
    "plt.show()\n",
    "# Verificăm corelația dintre lungimea textului și status"
   ]
  },
  {
   "cell_type": "code",
   "execution_count": 15,
   "metadata": {},
   "outputs": [],
   "source": [
    "#stergem coloana text_length pentru ca sunt aproape indenice si sa nu fie redurdanta\n",
    "df = df.drop(columns=[\"text_length\"])"
   ]
  },
  {
   "cell_type": "markdown",
   "metadata": {},
   "source": [
    "Calcularea entropiei"
   ]
  },
  {
   "cell_type": "code",
   "execution_count": 16,
   "metadata": {},
   "outputs": [
    {
     "name": "stdout",
     "output_type": "stream",
     "text": [
      "Entropia datasetului: 2.3364\n"
     ]
    }
   ],
   "source": [
    "import numpy as np\n",
    "\n",
    "# Calculăm frecvența fiecărei clase\n",
    "status_counts = df['status'].value_counts(normalize=True)  # Probabilități\n",
    "\n",
    "# Aplicăm formula entropiei\n",
    "entropy = -np.sum(status_counts * np.log2(status_counts))\n",
    "\n",
    "print(f\"Entropia datasetului: {entropy:.4f}\")\n"
   ]
  },
  {
   "cell_type": "markdown",
   "metadata": {},
   "source": [
    "Vom pregăti textul de împărțire pe cuvinte așadar avem nevoie să il curățăm"
   ]
  },
  {
   "cell_type": "markdown",
   "metadata": {},
   "source": [
    "Curățarea:\n",
    "\n",
    "Transformare în litere mici\n",
    "Eliminare punctuație, emoji-uri, caractere speciale\n",
    "Eliminare stopwords (ex: the, is, at, on...)"
   ]
  },
  {
   "cell_type": "code",
   "execution_count": 17,
   "metadata": {},
   "outputs": [
    {
     "name": "stderr",
     "output_type": "stream",
     "text": [
      "[nltk_data] Downloading package stopwords to\n",
      "[nltk_data]     C:\\Users\\Aspire3\\AppData\\Roaming\\nltk_data...\n",
      "[nltk_data]   Package stopwords is already up-to-date!\n"
     ]
    },
    {
     "name": "stdout",
     "output_type": "stream",
     "text": [
      "                                           statement  \\\n",
      "0                                         oh my gosh   \n",
      "1  trouble sleeping, confused mind, restless hear...   \n",
      "2  All wrong, back off dear, forward doubt. Stay ...   \n",
      "3  I've shifted my focus to something else but I'...   \n",
      "4  I'm restless and restless, it's been a month n...   \n",
      "5  every break, you must be nervous, like somethi...   \n",
      "6  I feel scared, anxious, what can I do? And may...   \n",
      "7    Have you ever felt nervous but didn't know why?   \n",
      "8  I haven't slept well for 2 days, it's like I'm...   \n",
      "9                 I'm really worried, I want to cry.   \n",
      "\n",
      "                                     clean_statement  \n",
      "0                                            oh gosh  \n",
      "1  trouble sleeping confused mind restless heart ...  \n",
      "2  wrong back dear forward doubt stay restless re...  \n",
      "3  ive shifted focus something else im still worried  \n",
      "4                im restless restless month boy mean  \n",
      "5  every break must nervous like something wrong ...  \n",
      "6        feel scared anxious may family us protected  \n",
      "7                       ever felt nervous didnt know  \n",
      "8        havent slept well days like im restless huh  \n",
      "9                         im really worried want cry  \n"
     ]
    }
   ],
   "source": [
    "import re\n",
    "import string\n",
    "import nltk\n",
    "from nltk.corpus import stopwords\n",
    "\n",
    "# Descărcăm stopwords dacă nu sunt deja descărcate\n",
    "nltk.download('stopwords')\n",
    "stop_words = set(stopwords.words('english'))\n",
    "\n",
    "def clean_text(text):\n",
    "    if isinstance(text, str):  # Verificăm dacă textul nu e NaN\n",
    "        text = text.lower()  # Transformăm în litere mici\n",
    "        text = re.sub(r'\\d+', '', text)  # Eliminăm cifrele\n",
    "        text = text.translate(str.maketrans('', '', string.punctuation))  # Eliminăm punctuația\n",
    "        text = ' '.join(word for word in text.split() if word not in stop_words)  # Eliminăm stopwords\n",
    "        return text\n",
    "    return \"\"\n",
    "\n",
    "# Aplicăm curățarea pe întreaga coloană 'statement'\n",
    "df['clean_statement'] = df['statement'].apply(clean_text)\n",
    "\n",
    "# Verificăm rezultatul\n",
    "print(df[['statement', 'clean_statement']].head(10))\n"
   ]
  },
  {
   "cell_type": "markdown",
   "metadata": {},
   "source": [
    "Acum facem tokenizare(înpărțirea textului în cuvinte) și word cont"
   ]
  },
  {
   "cell_type": "markdown",
   "metadata": {},
   "source": [
    "Am adaugat încă o coloana în care am cuvintele in liste din fiecare descriere"
   ]
  },
  {
   "cell_type": "code",
   "execution_count": 18,
   "metadata": {},
   "outputs": [
    {
     "name": "stderr",
     "output_type": "stream",
     "text": [
      "[nltk_data] Downloading package punkt to\n",
      "[nltk_data]     C:\\Users\\Aspire3\\AppData\\Roaming\\nltk_data...\n",
      "[nltk_data]   Package punkt is already up-to-date!\n",
      "[nltk_data] Downloading package punkt_tab to\n",
      "[nltk_data]     C:\\Users\\Aspire3\\AppData\\Roaming\\nltk_data...\n",
      "[nltk_data]   Package punkt_tab is already up-to-date!\n"
     ]
    },
    {
     "name": "stdout",
     "output_type": "stream",
     "text": [
      "                                     clean_statement  \\\n",
      "0                                            oh gosh   \n",
      "1  trouble sleeping confused mind restless heart ...   \n",
      "2  wrong back dear forward doubt stay restless re...   \n",
      "3  ive shifted focus something else im still worried   \n",
      "4                im restless restless month boy mean   \n",
      "5  every break must nervous like something wrong ...   \n",
      "6        feel scared anxious may family us protected   \n",
      "7                       ever felt nervous didnt know   \n",
      "8        havent slept well days like im restless huh   \n",
      "9                         im really worried want cry   \n",
      "\n",
      "                                              tokens  word_count  \n",
      "0                                         [oh, gosh]           2  \n",
      "1  [trouble, sleeping, confused, mind, restless, ...           7  \n",
      "2  [wrong, back, dear, forward, doubt, stay, rest...           9  \n",
      "3  [ive, shifted, focus, something, else, im, sti...           8  \n",
      "4         [im, restless, restless, month, boy, mean]           6  \n",
      "5  [every, break, must, nervous, like, something,...           8  \n",
      "6  [feel, scared, anxious, may, family, us, prote...           7  \n",
      "7                 [ever, felt, nervous, didnt, know]           5  \n",
      "8  [havent, slept, well, days, like, im, restless...           8  \n",
      "9                   [im, really, worried, want, cry]           5  \n"
     ]
    }
   ],
   "source": [
    "import nltk\n",
    "nltk.download('punkt')\n",
    "nltk.download('punkt_tab')\n",
    "from nltk.tokenize import word_tokenize\n",
    "\n",
    "\n",
    "\n",
    "# Funcție pentru tokenizare\n",
    "df['tokens'] = df['clean_statement'].apply(word_tokenize)\n",
    "\n",
    "# Adăugăm o coloană cu numărul de cuvinte\n",
    "df['word_count'] = df['tokens'].apply(len)\n",
    "\n",
    "# Verificăm rezultatul\n",
    "print(df[['clean_statement', 'tokens', 'word_count']].head(10))\n"
   ]
  },
  {
   "cell_type": "markdown",
   "metadata": {},
   "source": [
    "Facem un shuffle la date pentru a amesteca rândurile"
   ]
  },
  {
   "cell_type": "code",
   "execution_count": 19,
   "metadata": {},
   "outputs": [
    {
     "name": "stdout",
     "output_type": "stream",
     "text": [
      "                                           statement      status  word_count  \\\n",
      "0               I'm lazy to complain about it ba ihh      Normal           5   \n",
      "1  i think the wifi on my iphone is broken it wil...      Normal          11   \n",
      "2  Good tracking apps? I've been trying to find a...     Bipolar          40   \n",
      "3  I have recently looked into reddit and found t...  Depression         293   \n",
      "4                  that's your favorite thing to do?      Normal           3   \n",
      "5  I have enough goodies to play santa claus but ...    Suicidal          24   \n",
      "6  want to sleep but soon the call to prayer for ...      Normal           8   \n",
      "7  you use them to wipe the handle of the shoppin...      Normal           5   \n",
      "8  Is it good to only focus on 1 goal? What I mea...      Stress         219   \n",
      "9  Hi guys, I am looking for podcasts to listen t...  Depression          58   \n",
      "\n",
      "   status_encoded                                    clean_statement  \\\n",
      "0               3                            im lazy complain ba ihh   \n",
      "1               3  think wifi iphone broken quot connect quot act...   \n",
      "2               1  good tracking apps ive trying find apps track ...   \n",
      "3               2  recently looked reddit found place actually qu...   \n",
      "4               3                               thats favorite thing   \n",
      "5               6  enough goodies play santa claus reindeer came ...   \n",
      "6               3    want sleep soon call prayer midday heavy sleepy   \n",
      "7               3                      use wipe handle shopping cart   \n",
      "8               5  good focus goal mean example goals find good j...   \n",
      "9               2  hi guys looking podcasts listen tall depressio...   \n",
      "\n",
      "                                              tokens  \n",
      "0                      [im, lazy, complain, ba, ihh]  \n",
      "1  [think, wifi, iphone, broken, quot, connect, q...  \n",
      "2  [good, tracking, apps, ive, trying, find, apps...  \n",
      "3  [recently, looked, reddit, found, place, actua...  \n",
      "4                           [thats, favorite, thing]  \n",
      "5  [enough, goodies, play, santa, claus, reindeer...  \n",
      "6  [want, sleep, soon, call, prayer, midday, heav...  \n",
      "7                [use, wipe, handle, shopping, cart]  \n",
      "8  [good, focus, goal, mean, example, goals, find...  \n",
      "9  [hi, guys, looking, podcasts, listen, tall, de...  \n"
     ]
    }
   ],
   "source": [
    "from sklearn.utils import shuffle\n",
    "\n",
    "df = shuffle(df, random_state=42)  # Random_state asigură reproducibilitate\n",
    "df.reset_index(drop=True, inplace=True)  # Resetăm indexul după shuffle\n",
    "print(df.head(10))  # Verificăm primele 10 rânduri după amestecare"
   ]
  },
  {
   "cell_type": "markdown",
   "metadata": {},
   "source": [
    "Calculăm Gini Index care este utilizat pentru a măsura impuritatea unui set de date."
   ]
  },
  {
   "cell_type": "code",
   "execution_count": 20,
   "metadata": {},
   "outputs": [
    {
     "name": "stdout",
     "output_type": "stream",
     "text": [
      "Gini Index: 0.7665\n"
     ]
    }
   ],
   "source": [
    "import numpy as np\n",
    "\n",
    "# Calculăm proporția fiecărei clase\n",
    "status_counts = df['status'].value_counts(normalize=True)\n",
    "\n",
    "# Aplicăm formula Gini Index\n",
    "gini_index = 1 - np.sum(status_counts ** 2)\n",
    "\n",
    "print(f\"Gini Index: {gini_index:.4f}\")\n"
   ]
  },
  {
   "cell_type": "markdown",
   "metadata": {},
   "source": [
    "Information Quantity (IQ) este similară cu entropia"
   ]
  },
  {
   "cell_type": "code",
   "execution_count": 21,
   "metadata": {},
   "outputs": [
    {
     "name": "stdout",
     "output_type": "stream",
     "text": [
      "Information Quantity: 2.3364\n"
     ]
    }
   ],
   "source": [
    "# Calculăm Information Quantity (aceeași formulă ca entropia)\n",
    "information_quantity = -np.sum(status_counts * np.log2(status_counts))\n",
    "\n",
    "print(f\"Information Quantity: {information_quantity:.4f}\")\n"
   ]
  },
  {
   "cell_type": "markdown",
   "metadata": {},
   "source": [
    "Facem un grafic pentru a observa comparațile dintre Entropie, Gini Index și Information Quantity."
   ]
  },
  {
   "cell_type": "code",
   "execution_count": 22,
   "metadata": {},
   "outputs": [
    {
     "data": {
      "image/png": "[encoded data removed]",
      "text/plain": [
       "<Figure size 800x500 with 1 Axes>"
      ]
     },
     "metadata": {},
     "output_type": "display_data"
    }
   ],
   "source": [
    "import matplotlib.pyplot as plt\n",
    "\n",
    "# Valori pentru vizualizare\n",
    "metrics = ['Entropie', 'Gini Index', 'Information Quantity']\n",
    "values = [entropy, gini_index, information_quantity]\n",
    "\n",
    "# Creăm un bar chart\n",
    "plt.figure(figsize=(8,5))\n",
    "plt.bar(metrics, values, color=['blue', 'red', 'green'])\n",
    "\n",
    "# Adăugăm etichete și titlu\n",
    "plt.xlabel(\"Metrici\")\n",
    "plt.ylabel(\"Valoare\")\n",
    "plt.title(\"Compararea Entropiei, Gini Index și Information Quantity\")\n",
    "\n",
    "# Afișăm valorile pe bare\n",
    "for i, v in enumerate(values):\n",
    "    plt.text(i, v + 0.02, f\"{v:.4f}\", ha='center', fontsize=12, fontweight='bold')\n",
    "\n",
    "# Afișăm graficul\n",
    "plt.show()\n"
   ]
  },
  {
   "cell_type": "code",
   "execution_count": 23,
   "metadata": {},
   "outputs": [],
   "source": [
    "df.head(5)\n",
    "#salvam datele curatate\n",
    "df.to_csv(\"Cleaned_Data.csv\", index=False)"
   ]
  },
  {
   "cell_type": "markdown",
   "metadata": {},
   "source": [
    "Înpărțim datele 80% antrenare, 20% testare"
   ]
  },
  {
   "cell_type": "code",
   "execution_count": 24,
   "metadata": {},
   "outputs": [
    {
     "name": "stdout",
     "output_type": "stream",
     "text": [
      "Dimensiunea setului de antrenament: 42144\n",
      "Dimensiunea setului de testare: 10537\n"
     ]
    }
   ],
   "source": [
    "from sklearn.model_selection import train_test_split\n",
    "\n",
    "X_train, X_test, y_train, y_test = train_test_split(df['clean_statement'], df['status'], test_size=0.2, random_state=42)\n",
    "print(f\"Dimensiunea setului de antrenament: {len(X_train)}\")\n",
    "print(f\"Dimensiunea setului de testare: {len(X_test)}\")"
   ]
  },
  {
   "cell_type": "markdown",
   "metadata": {},
   "source": [
    "Cod pentru transformarea textului cu TF-IDF"
   ]
  },
  {
   "cell_type": "code",
   "execution_count": 25,
   "metadata": {},
   "outputs": [
    {
     "name": "stdout",
     "output_type": "stream",
     "text": [
      "Forma matricei TF-IDF pentru train: (42144, 5000)\n",
      "Forma matricei TF-IDF pentru test: (10537, 5000)\n"
     ]
    }
   ],
   "source": [
    "from sklearn.feature_extraction.text import TfidfVectorizer\n",
    "\n",
    "# Inițializăm TF-IDF\n",
    "tfidf = TfidfVectorizer(max_features=5000)  # Limităm la 5000 de caracteristici pentru performanță\n",
    "\n",
    "# Aplicăm pe datele de antrenament și test\n",
    "X_train_tfidf = tfidf.fit_transform(X_train)\n",
    "X_test_tfidf = tfidf.transform(X_test)\n",
    "\n",
    "print(\"Forma matricei TF-IDF pentru train:\", X_train_tfidf.shape)\n",
    "print(\"Forma matricei TF-IDF pentru test:\", X_test_tfidf.shape)\n"
   ]
  },
  {
   "cell_type": "markdown",
   "metadata": {},
   "source": [
    "Încercăm datele noastre pe 3 algoritmi să vedem care este mai bun \n",
    "Vom implementa antrenarea și evaluarea celor 3 modele folosind Naive Bayes, Logistic Regression și Random Forest."
   ]
  },
  {
   "cell_type": "code",
   "execution_count": 26,
   "metadata": {},
   "outputs": [
    {
     "name": "stdout",
     "output_type": "stream",
     "text": [
      "\n",
      "🔹 Naive Bayes Model Evaluation 🔹\n",
      "Accuracy: 0.6839\n",
      "Classification Report:\n",
      "                       precision    recall  f1-score   support\n",
      "\n",
      "             Anxiety       0.77      0.65      0.70       765\n",
      "             Bipolar       0.89      0.52      0.65       595\n",
      "          Depression       0.54      0.80      0.65      3083\n",
      "              Normal       0.83      0.82      0.82      3278\n",
      "Personality disorder       0.96      0.11      0.20       207\n",
      "              Stress       0.86      0.14      0.24       527\n",
      "            Suicidal       0.71      0.56      0.62      2082\n",
      "\n",
      "            accuracy                           0.68     10537\n",
      "           macro avg       0.79      0.51      0.55     10537\n",
      "        weighted avg       0.72      0.68      0.67     10537\n",
      "\n"
     ]
    },
    {
     "data": {
      "image/png": "[encoded data removed]",
      "text/plain": [
       "<Figure size 600x400 with 2 Axes>"
      ]
     },
     "metadata": {},
     "output_type": "display_data"
    },
    {
     "name": "stdout",
     "output_type": "stream",
     "text": [
      "\n",
      "🔹 Logistic Regression Model Evaluation 🔹\n",
      "Accuracy: 0.7684\n",
      "Classification Report:\n",
      "                       precision    recall  f1-score   support\n",
      "\n",
      "             Anxiety       0.79      0.78      0.78       765\n",
      "             Bipolar       0.88      0.73      0.80       595\n",
      "          Depression       0.72      0.73      0.73      3083\n",
      "              Normal       0.83      0.95      0.89      3278\n",
      "Personality disorder       0.83      0.48      0.61       207\n",
      "              Stress       0.67      0.44      0.53       527\n",
      "            Suicidal       0.69      0.66      0.67      2082\n",
      "\n",
      "            accuracy                           0.77     10537\n",
      "           macro avg       0.77      0.68      0.72     10537\n",
      "        weighted avg       0.76      0.77      0.76     10537\n",
      "\n"
     ]
    },
    {
     "data": {
      "image/png": "[encoded data removed]",
      "text/plain": [
       "<Figure size 600x400 with 2 Axes>"
      ]
     },
     "metadata": {},
     "output_type": "display_data"
    },
    {
     "name": "stdout",
     "output_type": "stream",
     "text": [
      "\n",
      "🔹 Random Forest Model Evaluation 🔹\n",
      "Accuracy: 0.7233\n",
      "Classification Report:\n",
      "                       precision    recall  f1-score   support\n",
      "\n",
      "             Anxiety       0.80      0.68      0.74       765\n",
      "             Bipolar       0.96      0.54      0.69       595\n",
      "          Depression       0.60      0.79      0.68      3083\n",
      "              Normal       0.82      0.94      0.88      3278\n",
      "Personality disorder       1.00      0.43      0.60       207\n",
      "              Stress       0.92      0.26      0.41       527\n",
      "            Suicidal       0.69      0.49      0.57      2082\n",
      "\n",
      "            accuracy                           0.72     10537\n",
      "           macro avg       0.83      0.59      0.65     10537\n",
      "        weighted avg       0.74      0.72      0.71     10537\n",
      "\n"
     ]
    },
    {
     "data": {
      "image/png": "[encoded data removed]",
      "text/plain": [
       "<Figure size 600x400 with 2 Axes>"
      ]
     },
     "metadata": {},
     "output_type": "display_data"
    }
   ],
   "source": [
    "from sklearn.naive_bayes import MultinomialNB\n",
    "from sklearn.linear_model import LogisticRegression\n",
    "from sklearn.ensemble import RandomForestClassifier\n",
    "from sklearn.metrics import accuracy_score, classification_report, confusion_matrix\n",
    "import seaborn as sns\n",
    "import matplotlib.pyplot as plt\n",
    "\n",
    "# 1. Inițializăm modelele\n",
    "nb_model = MultinomialNB()\n",
    "lr_model = LogisticRegression(max_iter=1000)\n",
    "rf_model = RandomForestClassifier(n_estimators=100, random_state=42)\n",
    "\n",
    "# 2. Antrenăm modelele\n",
    "nb_model.fit(X_train_tfidf, y_train)\n",
    "lr_model.fit(X_train_tfidf, y_train)\n",
    "rf_model.fit(X_train_tfidf, y_train)\n",
    "\n",
    "# 3. Facem predicții\n",
    "nb_pred = nb_model.predict(X_test_tfidf)\n",
    "lr_pred = lr_model.predict(X_test_tfidf)\n",
    "rf_pred = rf_model.predict(X_test_tfidf)\n",
    "\n",
    "# 4. Evaluăm modelele\n",
    "def evaluate_model(name, y_test, y_pred):\n",
    "    print(f\"\\n🔹 {name} Model Evaluation 🔹\")\n",
    "    print(f\"Accuracy: {accuracy_score(y_test, y_pred):.4f}\")\n",
    "    print(\"Classification Report:\\n\", classification_report(y_test, y_pred))\n",
    "\n",
    "    # Matrice de confuzie\n",
    "    plt.figure(figsize=(6,4))\n",
    "    sns.heatmap(confusion_matrix(y_test, y_pred), annot=True, fmt=\"d\", cmap=\"Blues\")\n",
    "    plt.title(f\"Matrice de confuzie - {name}\")\n",
    "    plt.xlabel(\"Predict\")\n",
    "    plt.ylabel(\"Actual\")\n",
    "    plt.show()\n",
    "\n",
    "evaluate_model(\"Naive Bayes\", y_test, nb_pred)\n",
    "evaluate_model(\"Logistic Regression\", y_test, lr_pred)\n",
    "evaluate_model(\"Random Forest\", y_test, rf_pred)\n"
   ]
  },
  {
   "cell_type": "markdown",
   "metadata": {},
   "source": [
    "Cel mai bun model pana acum este Logistic Regression "
   ]
  },
  {
   "cell_type": "markdown",
   "metadata": {},
   "source": [
    "Doresc să obțin rezultate mai bune așa că voi incerca să mai înbunătățesc datele"
   ]
  },
  {
   "cell_type": "markdown",
   "metadata": {},
   "source": [
    "Aplic N-grams la date"
   ]
  },
  {
   "cell_type": "markdown",
   "metadata": {},
   "source": [
    "TF-IDF îți analizează fiecare cuvânt separat, dar în unele cazuri contextul contează mai mult.\n",
    "De exemplu:\n",
    "🔹 \"I feel very sad\" → Cu TF-IDF, fiecare cuvânt e analizat separat: \"I\", \"feel\", \"very\", \"sad\"\n",
    "🔹 Cu bigrame (n-gram=2): \"I feel\", \"feel very\", \"very sad\"\n",
    "🔹 Cu trigrame (n-gram=3): \"I feel very\", \"feel very sad\""
   ]
  },
  {
   "cell_type": "code",
   "execution_count": 27,
   "metadata": {},
   "outputs": [],
   "source": [
    "from sklearn.feature_extraction.text import TfidfVectorizer\n",
    "\n",
    "tfidf_vectorizer = TfidfVectorizer(ngram_range=(1,2), max_features=5000)  # Unigram + Bigram\n",
    "X_train_tfidf = tfidf_vectorizer.fit_transform(X_train)\n",
    "X_test_tfidf = tfidf_vectorizer.transform(X_test)\n"
   ]
  },
  {
   "cell_type": "code",
   "execution_count": 28,
   "metadata": {},
   "outputs": [
    {
     "name": "stdout",
     "output_type": "stream",
     "text": [
      "Noua formă matrice TF-IDF pentru train: (42144, 5000)\n",
      "Noua formă matrice TF-IDF pentru test: (10537, 5000)\n"
     ]
    }
   ],
   "source": [
    "print(\"Noua formă matrice TF-IDF pentru train:\", X_train_tfidf.shape)\n",
    "print(\"Noua formă matrice TF-IDF pentru test:\", X_test_tfidf.shape)\n"
   ]
  },
  {
   "cell_type": "code",
   "execution_count": 29,
   "metadata": {},
   "outputs": [
    {
     "name": "stdout",
     "output_type": "stream",
     "text": [
      "Primele 20 de features: ['abandoned' 'abdomen' 'abilify' 'ability' 'able' 'able find' 'able get'\n",
      " 'able go' 'able help' 'able make' 'abroad' 'absolute' 'absolutely'\n",
      " 'absolutely nothing' 'abt' 'abuse' 'abused' 'abusing' 'abusive'\n",
      " 'academic']\n"
     ]
    }
   ],
   "source": [
    "feature_names = tfidf_vectorizer.get_feature_names_out()\n",
    "print(\"Primele 20 de features:\", feature_names[:20])\n"
   ]
  },
  {
   "cell_type": "code",
   "execution_count": 30,
   "metadata": {},
   "outputs": [
    {
     "name": "stdout",
     "output_type": "stream",
     "text": [
      "Număr de bigrame: 1770 din 5000\n",
      "Primele 10 bigrame: ['able find', 'able get', 'able go', 'able help', 'able make', 'absolutely nothing', 'act like', 'acting like', 'actually want', 'advice would']\n"
     ]
    }
   ],
   "source": [
    "bigrams = [word for word in feature_names if \" \" in word]\n",
    "print(f\"Număr de bigrame: {len(bigrams)} din {len(feature_names)}\")\n",
    "print(\"Primele 10 bigrame:\", bigrams[:10])\n"
   ]
  },
  {
   "cell_type": "markdown",
   "metadata": {},
   "source": [
    "Word Embeddings"
   ]
  },
  {
   "cell_type": "markdown",
   "metadata": {},
   "source": [
    "TF-IDF nu captează relația dintre cuvinte, dar modelele de embeddings învață reprezentări numerice mai eficiente.\n",
    "\n",
    "Vom folosi Bert"
   ]
  },
  {
   "cell_type": "markdown",
   "metadata": {},
   "source": [
    "Lemmatizare in loc de Stemming"
   ]
  },
  {
   "cell_type": "code",
   "execution_count": 35,
   "metadata": {},
   "outputs": [
    {
     "name": "stderr",
     "output_type": "stream",
     "text": [
      "[nltk_data] Downloading package wordnet to\n",
      "[nltk_data]     C:\\Users\\Aspire3\\AppData\\Roaming\\nltk_data...\n"
     ]
    },
    {
     "data": {
      "text/plain": [
       "0                              im lazy complain ba ihh\n",
       "1    think wifi iphone broken quot connect quot act...\n",
       "2    good tracking apps ive trying find apps track ...\n",
       "3    recently looked reddit found place actually qu...\n",
       "4                                 thats favorite thing\n",
       "5    enough goody play santa claus reindeer came wa...\n",
       "6      want sleep soon call prayer midday heavy sleepy\n",
       "7                        use wipe handle shopping cart\n",
       "8    good focus goal mean example goal find good jo...\n",
       "9    hi guy looking podcasts listen tall depression...\n",
       "Name: clean_statement, dtype: object"
      ]
     },
     "execution_count": 35,
     "metadata": {},
     "output_type": "execute_result"
    }
   ],
   "source": [
    "from nltk.stem import WordNetLemmatizer\n",
    "import nltk\n",
    "\n",
    "# Download the wordnet resource\n",
    "nltk.download('wordnet')\n",
    "\n",
    "lemmatizer = WordNetLemmatizer()\n",
    "df['clean_statement'] = df['clean_statement'].apply(lambda x: \" \".join([lemmatizer.lemmatize(word) for word in x.split()]))\n",
    "df['clean_statement'].head(10)  # Verificăm primele 10 rânduri după lemmatizare"
   ]
  },
  {
   "cell_type": "markdown",
   "metadata": {},
   "source": [
    " Optimizarea hiperparametrilor"
   ]
  },
  {
   "cell_type": "markdown",
   "metadata": {},
   "source": [
    "GridSearchCV (căutare exhaustivă) dureaza prea mult"
   ]
  },
  {
   "cell_type": "markdown",
   "metadata": {},
   "source": [
    "Incercam RandomizedSearchCV (căutare aleatorie)"
   ]
  },
  {
   "cell_type": "markdown",
   "metadata": {},
   "source": [
    "Aici am incercat pentru Random Forest"
   ]
  },
  {
   "cell_type": "code",
   "execution_count": null,
   "metadata": {},
   "outputs": [
    {
     "name": "stdout",
     "output_type": "stream",
     "text": [
      "{'n_estimators': 50, 'min_samples_split': 10, 'max_depth': 30}\n"
     ]
    }
   ],
   "source": [
    "from sklearn.model_selection import RandomizedSearchCV\n",
    "\n",
    "random_search = RandomizedSearchCV(RandomForestClassifier(), param_grid, cv=5, n_iter=10, scoring='accuracy', n_jobs=-1, random_state=42)\n",
    "random_search.fit(X_train_tfidf, y_train)  # Use TF-IDF-transformed data\n",
    "\n",
    "print(random_search.best_params_)\n",
    "\n",
    "\n"
   ]
  },
  {
   "cell_type": "code",
   "execution_count": 43,
   "metadata": {},
   "outputs": [
    {
     "name": "stdout",
     "output_type": "stream",
     "text": [
      "0.6661446658802135\n"
     ]
    }
   ],
   "source": [
    "print(random_search.best_score_)"
   ]
  },
  {
   "cell_type": "markdown",
   "metadata": {},
   "source": [
    "Pentru Logistic Regresion"
   ]
  },
  {
   "cell_type": "code",
   "execution_count": 44,
   "metadata": {},
   "outputs": [
    {
     "name": "stdout",
     "output_type": "stream",
     "text": [
      "Best Logistic Regression params: {'C': 1, 'penalty': 'l2', 'solver': 'lbfgs'}\n",
      "Best Logistic Regression score: 0.7593252451885576\n"
     ]
    }
   ],
   "source": [
    "from sklearn.linear_model import LogisticRegression\n",
    "from sklearn.model_selection import GridSearchCV\n",
    "\n",
    "log_param_grid = {\n",
    "    'C': [0.1, 1, 10],\n",
    "    'penalty': ['l2'],  # L1 funcționează doar cu anumite solvers\n",
    "    'solver': ['lbfgs', 'liblinear']\n",
    "}\n",
    "\n",
    "log_search = GridSearchCV(LogisticRegression(max_iter=1000), log_param_grid, cv=5, scoring='accuracy')\n",
    "log_search.fit(X_train_tfidf, y_train)\n",
    "\n",
    "print(\"Best Logistic Regression params:\", log_search.best_params_)\n",
    "print(\"Best Logistic Regression score:\", log_search.best_score_)\n"
   ]
  },
  {
   "cell_type": "markdown",
   "metadata": {},
   "source": [
    "Pentru Navie Bayes"
   ]
  },
  {
   "cell_type": "code",
   "execution_count": 45,
   "metadata": {},
   "outputs": [
    {
     "name": "stdout",
     "output_type": "stream",
     "text": [
      "Best Naive Bayes params: {'alpha': 0.1}\n",
      "Best Naive Bayes score: 0.6997438555829951\n"
     ]
    }
   ],
   "source": [
    "from sklearn.naive_bayes import MultinomialNB\n",
    "\n",
    "nb_param_grid = {\n",
    "    'alpha': [0.1, 0.5, 1.0, 2.0]\n",
    "}\n",
    "\n",
    "nb_search = GridSearchCV(MultinomialNB(), nb_param_grid, cv=5, scoring='accuracy')\n",
    "nb_search.fit(X_train_tfidf, y_train)\n",
    "\n",
    "print(\"Best Naive Bayes params:\", nb_search.best_params_)\n",
    "print(\"Best Naive Bayes score:\", nb_search.best_score_)"
   ]
  },
  {
   "cell_type": "markdown",
   "metadata": {},
   "source": [
    "Evaluam din nou modelele "
   ]
  },
  {
   "cell_type": "code",
   "execution_count": 46,
   "metadata": {},
   "outputs": [
    {
     "name": "stdout",
     "output_type": "stream",
     "text": [
      "Logistic Regression Accuracy: 0.7659675429439119\n",
      "                      precision    recall  f1-score   support\n",
      "\n",
      "             Anxiety       0.80      0.78      0.79       765\n",
      "             Bipolar       0.87      0.73      0.79       595\n",
      "          Depression       0.72      0.73      0.72      3083\n",
      "              Normal       0.83      0.95      0.89      3278\n",
      "Personality disorder       0.84      0.49      0.62       207\n",
      "              Stress       0.65      0.42      0.51       527\n",
      "            Suicidal       0.68      0.65      0.67      2082\n",
      "\n",
      "            accuracy                           0.77     10537\n",
      "           macro avg       0.77      0.68      0.71     10537\n",
      "        weighted avg       0.76      0.77      0.76     10537\n",
      "\n",
      "Random Forest Accuracy: 0.665749264496536\n",
      "                      precision    recall  f1-score   support\n",
      "\n",
      "             Anxiety       0.83      0.44      0.57       765\n",
      "             Bipolar       0.95      0.43      0.60       595\n",
      "          Depression       0.57      0.76      0.65      3083\n",
      "              Normal       0.70      0.96      0.81      3278\n",
      "Personality disorder       1.00      0.30      0.47       207\n",
      "              Stress       0.97      0.15      0.26       527\n",
      "            Suicidal       0.71      0.38      0.50      2082\n",
      "\n",
      "            accuracy                           0.67     10537\n",
      "           macro avg       0.82      0.49      0.55     10537\n",
      "        weighted avg       0.71      0.67      0.64     10537\n",
      "\n",
      "Naive Bayes Accuracy: 0.7066527474613268\n",
      "                      precision    recall  f1-score   support\n",
      "\n",
      "             Anxiety       0.75      0.70      0.73       765\n",
      "             Bipolar       0.84      0.65      0.73       595\n",
      "          Depression       0.58      0.76      0.66      3083\n",
      "              Normal       0.85      0.83      0.84      3278\n",
      "Personality disorder       0.82      0.37      0.51       207\n",
      "              Stress       0.67      0.26      0.38       527\n",
      "            Suicidal       0.69      0.61      0.65      2082\n",
      "\n",
      "            accuracy                           0.71     10537\n",
      "           macro avg       0.74      0.60      0.64     10537\n",
      "        weighted avg       0.72      0.71      0.70     10537\n",
      "\n"
     ]
    }
   ],
   "source": [
    "from sklearn.metrics import classification_report, accuracy_score\n",
    "\n",
    "# Logistic Regression\n",
    "best_lr = LogisticRegression(C=1, penalty='l2', solver='lbfgs', max_iter=1000)\n",
    "best_lr.fit(X_train_tfidf, y_train)\n",
    "y_pred_lr = best_lr.predict(X_test_tfidf)\n",
    "print(\"Logistic Regression Accuracy:\", accuracy_score(y_test, y_pred_lr))\n",
    "print(classification_report(y_test, y_pred_lr))\n",
    "\n",
    "# Random Forest\n",
    "best_rf = RandomForestClassifier(n_estimators=50, min_samples_split=10, max_depth=30)\n",
    "best_rf.fit(X_train_tfidf, y_train)\n",
    "y_pred_rf = best_rf.predict(X_test_tfidf)\n",
    "print(\"Random Forest Accuracy:\", accuracy_score(y_test, y_pred_rf))\n",
    "print(classification_report(y_test, y_pred_rf))\n",
    "\n",
    "# Naive Bayes\n",
    "best_nb = MultinomialNB(alpha=0.1)\n",
    "best_nb.fit(X_train_tfidf, y_train)\n",
    "y_pred_nb = best_nb.predict(X_test_tfidf)\n",
    "print(\"Naive Bayes Accuracy:\", accuracy_score(y_test, y_pred_nb))\n",
    "print(classification_report(y_test, y_pred_nb))\n"
   ]
  },
  {
   "cell_type": "markdown",
   "metadata": {},
   "source": [
    "În final cel mai bun model este Logistic Regression"
   ]
  },
  {
   "cell_type": "code",
   "execution_count": 47,
   "metadata": {},
   "outputs": [
    {
     "data": {
      "text/plain": [
       "['final_logistic_model.pkl']"
      ]
     },
     "execution_count": 47,
     "metadata": {},
     "output_type": "execute_result"
    }
   ],
   "source": [
    "import joblib\n",
    "joblib.dump(best_lr, 'final_logistic_model.pkl')\n"
   ]
  }
 ],
 "metadata": {
  "kernelspec": {
   "display_name": "Python 3",
   "language": "python",
   "name": "python3"
  },
  "language_info": {
   "codemirror_mode": {
    "name": "ipython",
    "version": 3
   },
   "file_extension": ".py",
   "mimetype": "text/x-python",
   "name": "python",
   "nbconvert_exporter": "python",
   "pygments_lexer": "ipython3",
   "version": "3.11.0"
  }
 },
 "nbformat": 4,
 "nbformat_minor": 2
}
